{
 "cells": [
  {
   "cell_type": "markdown",
   "metadata": {},
   "source": [
    "# Data Preprocessing with Pandas"
   ]
  },
  {
   "cell_type": "markdown",
   "metadata": {},
   "source": [
    "## Import Modules"
   ]
  },
  {
   "cell_type": "code",
   "execution_count": 1,
   "metadata": {},
   "outputs": [],
   "source": [
    "import pandas as pd\n",
    "import numpy as np\n",
    "import matplotlib.pyplot as plt\n",
    "\n",
    "%matplotlib inline"
   ]
  },
  {
   "cell_type": "markdown",
   "metadata": {},
   "source": [
    "## Import data\n",
    "\n",
    "Data is generated from [Australia Bureau of statistics](http://www.abs.gov.au/AUSSTATS/abs@.nsf/DetailsPage/6416.0Mar%202015?OpenDocument), some cells are removed (set to NaN) manually in order to serve this notebook."
   ]
  },
  {
   "cell_type": "code",
   "execution_count": 2,
   "metadata": {},
   "outputs": [
    {
     "data": {
      "text/html": [
       "<div>\n",
       "<style scoped>\n",
       "    .dataframe tbody tr th:only-of-type {\n",
       "        vertical-align: middle;\n",
       "    }\n",
       "\n",
       "    .dataframe tbody tr th {\n",
       "        vertical-align: top;\n",
       "    }\n",
       "\n",
       "    .dataframe thead th {\n",
       "        text-align: right;\n",
       "    }\n",
       "</style>\n",
       "<table border=\"1\" class=\"dataframe\">\n",
       "  <thead>\n",
       "    <tr style=\"text-align: right;\">\n",
       "      <th></th>\n",
       "      <th>City</th>\n",
       "      <th>Quarter</th>\n",
       "      <th>Price</th>\n",
       "    </tr>\n",
       "  </thead>\n",
       "  <tbody>\n",
       "    <tr>\n",
       "      <th>0</th>\n",
       "      <td>Sydney</td>\n",
       "      <td>Q1</td>\n",
       "      <td>700.0</td>\n",
       "    </tr>\n",
       "    <tr>\n",
       "      <th>1</th>\n",
       "      <td>Rest of NSW</td>\n",
       "      <td>Q1</td>\n",
       "      <td>370.0</td>\n",
       "    </tr>\n",
       "    <tr>\n",
       "      <th>2</th>\n",
       "      <td>Melbourne</td>\n",
       "      <td>Q1</td>\n",
       "      <td>525.0</td>\n",
       "    </tr>\n",
       "    <tr>\n",
       "      <th>3</th>\n",
       "      <td>Rest of Vic.</td>\n",
       "      <td>Q1</td>\n",
       "      <td>NaN</td>\n",
       "    </tr>\n",
       "    <tr>\n",
       "      <th>4</th>\n",
       "      <td>Brisbane</td>\n",
       "      <td>Q1</td>\n",
       "      <td>460.0</td>\n",
       "    </tr>\n",
       "  </tbody>\n",
       "</table>\n",
       "</div>"
      ],
      "text/plain": [
       "           City Quarter  Price\n",
       "0        Sydney      Q1  700.0\n",
       "1   Rest of NSW      Q1  370.0\n",
       "2     Melbourne      Q1  525.0\n",
       "3  Rest of Vic.      Q1    NaN\n",
       "4      Brisbane      Q1  460.0"
      ]
     },
     "execution_count": 2,
     "metadata": {},
     "output_type": "execute_result"
    }
   ],
   "source": [
    "df = pd.read_csv('./asset/Median Price of Established House Transfers.txt', sep='\\t') # row 3 has a null value\n",
    "df.head()"
   ]
  },
  {
   "cell_type": "markdown",
   "metadata": {},
   "source": [
    "## Finding and Handling Missing Data"
   ]
  },
  {
   "cell_type": "code",
   "execution_count": 3,
   "metadata": {},
   "outputs": [
    {
     "data": {
      "text/html": [
       "<div>\n",
       "<style scoped>\n",
       "    .dataframe tbody tr th:only-of-type {\n",
       "        vertical-align: middle;\n",
       "    }\n",
       "\n",
       "    .dataframe tbody tr th {\n",
       "        vertical-align: top;\n",
       "    }\n",
       "\n",
       "    .dataframe thead th {\n",
       "        text-align: right;\n",
       "    }\n",
       "</style>\n",
       "<table border=\"1\" class=\"dataframe\">\n",
       "  <thead>\n",
       "    <tr style=\"text-align: right;\">\n",
       "      <th></th>\n",
       "      <th>City</th>\n",
       "      <th>Quarter</th>\n",
       "      <th>Price</th>\n",
       "    </tr>\n",
       "  </thead>\n",
       "  <tbody>\n",
       "    <tr>\n",
       "      <th>3</th>\n",
       "      <td>Rest of Vic.</td>\n",
       "      <td>Q1</td>\n",
       "      <td>NaN</td>\n",
       "    </tr>\n",
       "    <tr>\n",
       "      <th>13</th>\n",
       "      <td>Rest of NT</td>\n",
       "      <td>Q1</td>\n",
       "      <td>NaN</td>\n",
       "    </tr>\n",
       "    <tr>\n",
       "      <th>21</th>\n",
       "      <td>Adelaide</td>\n",
       "      <td>Q2</td>\n",
       "      <td>NaN</td>\n",
       "    </tr>\n",
       "    <tr>\n",
       "      <th>27</th>\n",
       "      <td>Darwin</td>\n",
       "      <td>Q2</td>\n",
       "      <td>NaN</td>\n",
       "    </tr>\n",
       "    <tr>\n",
       "      <th>40</th>\n",
       "      <td>Hobart</td>\n",
       "      <td>Q3</td>\n",
       "      <td>NaN</td>\n",
       "    </tr>\n",
       "    <tr>\n",
       "      <th>49</th>\n",
       "      <td>Brisbane</td>\n",
       "      <td>Q4</td>\n",
       "      <td>NaN</td>\n",
       "    </tr>\n",
       "  </tbody>\n",
       "</table>\n",
       "</div>"
      ],
      "text/plain": [
       "            City Quarter  Price\n",
       "3   Rest of Vic.      Q1    NaN\n",
       "13    Rest of NT      Q1    NaN\n",
       "21      Adelaide      Q2    NaN\n",
       "27        Darwin      Q2    NaN\n",
       "40        Hobart      Q3    NaN\n",
       "49      Brisbane      Q4    NaN"
      ]
     },
     "execution_count": 3,
     "metadata": {},
     "output_type": "execute_result"
    }
   ],
   "source": [
    "# find rows that Price is null\n",
    "df[pd.isnull(df['Price'])]"
   ]
  },
  {
   "cell_type": "code",
   "execution_count": 4,
   "metadata": {},
   "outputs": [
    {
     "data": {
      "text/plain": [
       "Int64Index([3, 13, 21, 27, 40, 49], dtype='int64')"
      ]
     },
     "execution_count": 4,
     "metadata": {},
     "output_type": "execute_result"
    }
   ],
   "source": [
    "index_with_null = df[pd.isnull(df['Price'])].index\n",
    "index_with_null"
   ]
  },
  {
   "cell_type": "markdown",
   "metadata": {},
   "source": [
    "We can specify a value (e.g., 0) to replace those null values, through the fillna() method"
   ]
  },
  {
   "cell_type": "code",
   "execution_count": 6,
   "metadata": {},
   "outputs": [
    {
     "data": {
      "text/html": [
       "<div>\n",
       "<style scoped>\n",
       "    .dataframe tbody tr th:only-of-type {\n",
       "        vertical-align: middle;\n",
       "    }\n",
       "\n",
       "    .dataframe tbody tr th {\n",
       "        vertical-align: top;\n",
       "    }\n",
       "\n",
       "    .dataframe thead th {\n",
       "        text-align: right;\n",
       "    }\n",
       "</style>\n",
       "<table border=\"1\" class=\"dataframe\">\n",
       "  <thead>\n",
       "    <tr style=\"text-align: right;\">\n",
       "      <th></th>\n",
       "      <th>City</th>\n",
       "      <th>Quarter</th>\n",
       "      <th>Price</th>\n",
       "    </tr>\n",
       "  </thead>\n",
       "  <tbody>\n",
       "    <tr>\n",
       "      <th>3</th>\n",
       "      <td>Rest of Vic.</td>\n",
       "      <td>Q1</td>\n",
       "      <td>0.0</td>\n",
       "    </tr>\n",
       "    <tr>\n",
       "      <th>13</th>\n",
       "      <td>Rest of NT</td>\n",
       "      <td>Q1</td>\n",
       "      <td>0.0</td>\n",
       "    </tr>\n",
       "    <tr>\n",
       "      <th>21</th>\n",
       "      <td>Adelaide</td>\n",
       "      <td>Q2</td>\n",
       "      <td>0.0</td>\n",
       "    </tr>\n",
       "    <tr>\n",
       "      <th>27</th>\n",
       "      <td>Darwin</td>\n",
       "      <td>Q2</td>\n",
       "      <td>0.0</td>\n",
       "    </tr>\n",
       "    <tr>\n",
       "      <th>40</th>\n",
       "      <td>Hobart</td>\n",
       "      <td>Q3</td>\n",
       "      <td>0.0</td>\n",
       "    </tr>\n",
       "    <tr>\n",
       "      <th>49</th>\n",
       "      <td>Brisbane</td>\n",
       "      <td>Q4</td>\n",
       "      <td>0.0</td>\n",
       "    </tr>\n",
       "  </tbody>\n",
       "</table>\n",
       "</div>"
      ],
      "text/plain": [
       "            City Quarter  Price\n",
       "3   Rest of Vic.      Q1    0.0\n",
       "13    Rest of NT      Q1    0.0\n",
       "21      Adelaide      Q2    0.0\n",
       "27        Darwin      Q2    0.0\n",
       "40        Hobart      Q3    0.0\n",
       "49      Brisbane      Q4    0.0"
      ]
     },
     "execution_count": 6,
     "metadata": {},
     "output_type": "execute_result"
    }
   ],
   "source": [
    "df2 = df.fillna(0) # price value of row 3 is set to 0.0\n",
    "df2.iloc[index_with_null]\n",
    "# df2.index in index_with_null"
   ]
  },
  {
   "cell_type": "markdown",
   "metadata": {},
   "source": [
    "We can also propagate non-null values forward or backward"
   ]
  },
  {
   "cell_type": "code",
   "execution_count": 7,
   "metadata": {},
   "outputs": [
    {
     "data": {
      "text/html": [
       "<div>\n",
       "<style scoped>\n",
       "    .dataframe tbody tr th:only-of-type {\n",
       "        vertical-align: middle;\n",
       "    }\n",
       "\n",
       "    .dataframe tbody tr th {\n",
       "        vertical-align: top;\n",
       "    }\n",
       "\n",
       "    .dataframe thead th {\n",
       "        text-align: right;\n",
       "    }\n",
       "</style>\n",
       "<table border=\"1\" class=\"dataframe\">\n",
       "  <thead>\n",
       "    <tr style=\"text-align: right;\">\n",
       "      <th></th>\n",
       "      <th>City</th>\n",
       "      <th>Quarter</th>\n",
       "      <th>Price</th>\n",
       "    </tr>\n",
       "  </thead>\n",
       "  <tbody>\n",
       "    <tr>\n",
       "      <th>0</th>\n",
       "      <td>Sydney</td>\n",
       "      <td>Q1</td>\n",
       "      <td>700.0</td>\n",
       "    </tr>\n",
       "    <tr>\n",
       "      <th>1</th>\n",
       "      <td>Rest of NSW</td>\n",
       "      <td>Q1</td>\n",
       "      <td>370.0</td>\n",
       "    </tr>\n",
       "    <tr>\n",
       "      <th>2</th>\n",
       "      <td>Melbourne</td>\n",
       "      <td>Q1</td>\n",
       "      <td>525.0</td>\n",
       "    </tr>\n",
       "    <tr>\n",
       "      <th>3</th>\n",
       "      <td>Rest of Vic.</td>\n",
       "      <td>Q1</td>\n",
       "      <td>525.0</td>\n",
       "    </tr>\n",
       "    <tr>\n",
       "      <th>4</th>\n",
       "      <td>Brisbane</td>\n",
       "      <td>Q1</td>\n",
       "      <td>460.0</td>\n",
       "    </tr>\n",
       "  </tbody>\n",
       "</table>\n",
       "</div>"
      ],
      "text/plain": [
       "           City Quarter  Price\n",
       "0        Sydney      Q1  700.0\n",
       "1   Rest of NSW      Q1  370.0\n",
       "2     Melbourne      Q1  525.0\n",
       "3  Rest of Vic.      Q1  525.0\n",
       "4      Brisbane      Q1  460.0"
      ]
     },
     "execution_count": 7,
     "metadata": {},
     "output_type": "execute_result"
    }
   ],
   "source": [
    "df2 = df.fillna(method='pad', axis=0)\n",
    "df2.head() # The price of row 3 is the same as that of row 2"
   ]
  },
  {
   "cell_type": "markdown",
   "metadata": {},
   "source": [
    "We can even drop the rows (or columns) with null values"
   ]
  },
  {
   "cell_type": "code",
   "execution_count": 8,
   "metadata": {},
   "outputs": [
    {
     "data": {
      "text/html": [
       "<div>\n",
       "<style scoped>\n",
       "    .dataframe tbody tr th:only-of-type {\n",
       "        vertical-align: middle;\n",
       "    }\n",
       "\n",
       "    .dataframe tbody tr th {\n",
       "        vertical-align: top;\n",
       "    }\n",
       "\n",
       "    .dataframe thead th {\n",
       "        text-align: right;\n",
       "    }\n",
       "</style>\n",
       "<table border=\"1\" class=\"dataframe\">\n",
       "  <thead>\n",
       "    <tr style=\"text-align: right;\">\n",
       "      <th></th>\n",
       "      <th>City</th>\n",
       "      <th>Quarter</th>\n",
       "      <th>Price</th>\n",
       "    </tr>\n",
       "  </thead>\n",
       "  <tbody>\n",
       "    <tr>\n",
       "      <th>0</th>\n",
       "      <td>Sydney</td>\n",
       "      <td>Q1</td>\n",
       "      <td>700.0</td>\n",
       "    </tr>\n",
       "    <tr>\n",
       "      <th>1</th>\n",
       "      <td>Rest of NSW</td>\n",
       "      <td>Q1</td>\n",
       "      <td>370.0</td>\n",
       "    </tr>\n",
       "    <tr>\n",
       "      <th>2</th>\n",
       "      <td>Melbourne</td>\n",
       "      <td>Q1</td>\n",
       "      <td>525.0</td>\n",
       "    </tr>\n",
       "    <tr>\n",
       "      <th>4</th>\n",
       "      <td>Brisbane</td>\n",
       "      <td>Q1</td>\n",
       "      <td>460.0</td>\n",
       "    </tr>\n",
       "    <tr>\n",
       "      <th>5</th>\n",
       "      <td>Rest of Qld.</td>\n",
       "      <td>Q1</td>\n",
       "      <td>400.0</td>\n",
       "    </tr>\n",
       "  </tbody>\n",
       "</table>\n",
       "</div>"
      ],
      "text/plain": [
       "           City Quarter  Price\n",
       "0        Sydney      Q1  700.0\n",
       "1   Rest of NSW      Q1  370.0\n",
       "2     Melbourne      Q1  525.0\n",
       "4      Brisbane      Q1  460.0\n",
       "5  Rest of Qld.      Q1  400.0"
      ]
     },
     "execution_count": 8,
     "metadata": {},
     "output_type": "execute_result"
    }
   ],
   "source": [
    "df2 = df.dropna(axis=0) # if axis = 1 then the column will be dropped\n",
    "df2.head() # Note that row 3 is dropped"
   ]
  },
  {
   "cell_type": "markdown",
   "metadata": {},
   "source": [
    "Obviously, none of the above solutions are appropriate.\n",
    "\n",
    "A better way to deal with the null value is to replace them with the mean value of the prices of the corresponding city over the whole year."
   ]
  },
  {
   "cell_type": "code",
   "execution_count": 10,
   "metadata": {},
   "outputs": [
    {
     "data": {
      "text/html": [
       "<div>\n",
       "<style scoped>\n",
       "    .dataframe tbody tr th:only-of-type {\n",
       "        vertical-align: middle;\n",
       "    }\n",
       "\n",
       "    .dataframe tbody tr th {\n",
       "        vertical-align: top;\n",
       "    }\n",
       "\n",
       "    .dataframe thead th {\n",
       "        text-align: right;\n",
       "    }\n",
       "</style>\n",
       "<table border=\"1\" class=\"dataframe\">\n",
       "  <thead>\n",
       "    <tr style=\"text-align: right;\">\n",
       "      <th></th>\n",
       "      <th>City</th>\n",
       "      <th>Quarter</th>\n",
       "      <th>Price</th>\n",
       "    </tr>\n",
       "  </thead>\n",
       "  <tbody>\n",
       "    <tr>\n",
       "      <th>3</th>\n",
       "      <td>Rest of Vic.</td>\n",
       "      <td>Q1</td>\n",
       "      <td>294.666667</td>\n",
       "    </tr>\n",
       "    <tr>\n",
       "      <th>13</th>\n",
       "      <td>Rest of NT</td>\n",
       "      <td>Q1</td>\n",
       "      <td>422.500000</td>\n",
       "    </tr>\n",
       "    <tr>\n",
       "      <th>21</th>\n",
       "      <td>Adelaide</td>\n",
       "      <td>Q2</td>\n",
       "      <td>420.433333</td>\n",
       "    </tr>\n",
       "    <tr>\n",
       "      <th>27</th>\n",
       "      <td>Darwin</td>\n",
       "      <td>Q2</td>\n",
       "      <td>579.166667</td>\n",
       "    </tr>\n",
       "    <tr>\n",
       "      <th>40</th>\n",
       "      <td>Hobart</td>\n",
       "      <td>Q3</td>\n",
       "      <td>359.000000</td>\n",
       "    </tr>\n",
       "    <tr>\n",
       "      <th>49</th>\n",
       "      <td>Brisbane</td>\n",
       "      <td>Q4</td>\n",
       "      <td>468.633333</td>\n",
       "    </tr>\n",
       "  </tbody>\n",
       "</table>\n",
       "</div>"
      ],
      "text/plain": [
       "            City Quarter       Price\n",
       "3   Rest of Vic.      Q1  294.666667\n",
       "13    Rest of NT      Q1  422.500000\n",
       "21      Adelaide      Q2  420.433333\n",
       "27        Darwin      Q2  579.166667\n",
       "40        Hobart      Q3  359.000000\n",
       "49      Brisbane      Q4  468.633333"
      ]
     },
     "execution_count": 10,
     "metadata": {},
     "output_type": "execute_result"
    }
   ],
   "source": [
    "df[\"Price\"] = df.groupby(\"City\").transform(lambda x: x.fillna(x.mean()))\n",
    "df.iloc[index_with_null]"
   ]
  },
  {
   "cell_type": "markdown",
   "metadata": {},
   "source": [
    "## Binning"
   ]
  },
  {
   "cell_type": "markdown",
   "metadata": {},
   "source": [
    "### Equal-width Partitioning"
   ]
  },
  {
   "cell_type": "markdown",
   "metadata": {},
   "source": [
    "We use the table with all null values filled"
   ]
  },
  {
   "cell_type": "code",
   "execution_count": 11,
   "metadata": {},
   "outputs": [
    {
     "data": {
      "text/plain": [
       "0      (597.0, 716.0]\n",
       "1      (359.0, 478.0]\n",
       "2      (478.0, 597.0]\n",
       "3    (239.405, 359.0]\n",
       "4      (359.0, 478.0]\n",
       "Name: Price, dtype: category\n",
       "Categories (5, interval[float64]): [(239.405, 359.0] < (359.0, 478.0] < (478.0, 597.0] < (597.0, 716.0] < (716.0, 835.0]]"
      ]
     },
     "execution_count": 11,
     "metadata": {},
     "output_type": "execute_result"
    }
   ],
   "source": [
    "pd.cut(df['Price'],5).head() # equally partition Price into 5 bins"
   ]
  },
  {
   "cell_type": "code",
   "execution_count": 12,
   "metadata": {},
   "outputs": [
    {
     "data": {
      "text/html": [
       "<div>\n",
       "<style scoped>\n",
       "    .dataframe tbody tr th:only-of-type {\n",
       "        vertical-align: middle;\n",
       "    }\n",
       "\n",
       "    .dataframe tbody tr th {\n",
       "        vertical-align: top;\n",
       "    }\n",
       "\n",
       "    .dataframe thead th {\n",
       "        text-align: right;\n",
       "    }\n",
       "</style>\n",
       "<table border=\"1\" class=\"dataframe\">\n",
       "  <thead>\n",
       "    <tr style=\"text-align: right;\">\n",
       "      <th></th>\n",
       "      <th>City</th>\n",
       "      <th>Quarter</th>\n",
       "      <th>Price</th>\n",
       "      <th>Bin</th>\n",
       "    </tr>\n",
       "  </thead>\n",
       "  <tbody>\n",
       "    <tr>\n",
       "      <th>0</th>\n",
       "      <td>Sydney</td>\n",
       "      <td>Q1</td>\n",
       "      <td>700.000000</td>\n",
       "      <td>High</td>\n",
       "    </tr>\n",
       "    <tr>\n",
       "      <th>1</th>\n",
       "      <td>Rest of NSW</td>\n",
       "      <td>Q1</td>\n",
       "      <td>370.000000</td>\n",
       "      <td>Low</td>\n",
       "    </tr>\n",
       "    <tr>\n",
       "      <th>2</th>\n",
       "      <td>Melbourne</td>\n",
       "      <td>Q1</td>\n",
       "      <td>525.000000</td>\n",
       "      <td>Medium</td>\n",
       "    </tr>\n",
       "    <tr>\n",
       "      <th>3</th>\n",
       "      <td>Rest of Vic.</td>\n",
       "      <td>Q1</td>\n",
       "      <td>294.666667</td>\n",
       "      <td>Very Low</td>\n",
       "    </tr>\n",
       "    <tr>\n",
       "      <th>4</th>\n",
       "      <td>Brisbane</td>\n",
       "      <td>Q1</td>\n",
       "      <td>460.000000</td>\n",
       "      <td>Low</td>\n",
       "    </tr>\n",
       "  </tbody>\n",
       "</table>\n",
       "</div>"
      ],
      "text/plain": [
       "           City Quarter       Price       Bin\n",
       "0        Sydney      Q1  700.000000      High\n",
       "1   Rest of NSW      Q1  370.000000       Low\n",
       "2     Melbourne      Q1  525.000000    Medium\n",
       "3  Rest of Vic.      Q1  294.666667  Very Low\n",
       "4      Brisbane      Q1  460.000000       Low"
      ]
     },
     "execution_count": 12,
     "metadata": {},
     "output_type": "execute_result"
    }
   ],
   "source": [
    "# We could label the bins and add new column\n",
    "df['Bin'] = pd.cut(df['Price'],5,labels=[\"Very Low\",\"Low\",\"Medium\",\"High\",\"Very High\"])\n",
    "df.head()"
   ]
  },
  {
   "cell_type": "markdown",
   "metadata": {},
   "source": [
    "### Equal-depth Partitioining"
   ]
  },
  {
   "cell_type": "code",
   "execution_count": 13,
   "metadata": {},
   "outputs": [
    {
     "data": {
      "text/plain": [
       "0      (555.1, 835.0]\n",
       "1      (336.4, 395.0]\n",
       "2      (440.5, 555.1]\n",
       "3    (239.999, 336.4]\n",
       "4      (440.5, 555.1]\n",
       "Name: Price, dtype: category\n",
       "Categories (5, interval[float64]): [(239.999, 336.4] < (336.4, 395.0] < (395.0, 440.5] < (440.5, 555.1] < (555.1, 835.0]]"
      ]
     },
     "execution_count": 13,
     "metadata": {},
     "output_type": "execute_result"
    }
   ],
   "source": [
    "pd.qcut(df['Price'],5).head() # Note the difference from the Equal-width Partitioning case"
   ]
  },
  {
   "cell_type": "code",
   "execution_count": 14,
   "metadata": {},
   "outputs": [
    {
     "data": {
      "text/plain": [
       "Bin\n",
       "Very Low     12\n",
       "Low          12\n",
       "Medium       12\n",
       "High         12\n",
       "Very High    12\n",
       "dtype: int64"
      ]
     },
     "execution_count": 14,
     "metadata": {},
     "output_type": "execute_result"
    }
   ],
   "source": [
    "# Let's check the depth of each bin\n",
    "df['Bin'] = pd.qcut(df['Price'],5,labels=[\"Very Low\",\"Low\",\"Medium\",\"High\",\"Very High\"])\n",
    "df.groupby('Bin').size()"
   ]
  },
  {
   "cell_type": "markdown",
   "metadata": {},
   "source": [
    "## Smoothing"
   ]
  },
  {
   "cell_type": "markdown",
   "metadata": {},
   "source": [
    "### Smoothing by Bin Means"
   ]
  },
  {
   "cell_type": "code",
   "execution_count": 15,
   "metadata": {},
   "outputs": [
    {
     "data": {
      "text/html": [
       "<div>\n",
       "<style scoped>\n",
       "    .dataframe tbody tr th:only-of-type {\n",
       "        vertical-align: middle;\n",
       "    }\n",
       "\n",
       "    .dataframe tbody tr th {\n",
       "        vertical-align: top;\n",
       "    }\n",
       "\n",
       "    .dataframe thead th {\n",
       "        text-align: right;\n",
       "    }\n",
       "</style>\n",
       "<table border=\"1\" class=\"dataframe\">\n",
       "  <thead>\n",
       "    <tr style=\"text-align: right;\">\n",
       "      <th></th>\n",
       "      <th>City</th>\n",
       "      <th>Quarter</th>\n",
       "      <th>Price</th>\n",
       "      <th>Bin</th>\n",
       "    </tr>\n",
       "  </thead>\n",
       "  <tbody>\n",
       "    <tr>\n",
       "      <th>0</th>\n",
       "      <td>Sydney</td>\n",
       "      <td>Q1</td>\n",
       "      <td>700.000000</td>\n",
       "      <td>Very High</td>\n",
       "    </tr>\n",
       "    <tr>\n",
       "      <th>1</th>\n",
       "      <td>Rest of NSW</td>\n",
       "      <td>Q1</td>\n",
       "      <td>370.000000</td>\n",
       "      <td>Low</td>\n",
       "    </tr>\n",
       "    <tr>\n",
       "      <th>2</th>\n",
       "      <td>Melbourne</td>\n",
       "      <td>Q1</td>\n",
       "      <td>525.000000</td>\n",
       "      <td>High</td>\n",
       "    </tr>\n",
       "    <tr>\n",
       "      <th>3</th>\n",
       "      <td>Rest of Vic.</td>\n",
       "      <td>Q1</td>\n",
       "      <td>294.666667</td>\n",
       "      <td>Very Low</td>\n",
       "    </tr>\n",
       "    <tr>\n",
       "      <th>4</th>\n",
       "      <td>Brisbane</td>\n",
       "      <td>Q1</td>\n",
       "      <td>460.000000</td>\n",
       "      <td>High</td>\n",
       "    </tr>\n",
       "  </tbody>\n",
       "</table>\n",
       "</div>"
      ],
      "text/plain": [
       "           City Quarter       Price        Bin\n",
       "0        Sydney      Q1  700.000000  Very High\n",
       "1   Rest of NSW      Q1  370.000000        Low\n",
       "2     Melbourne      Q1  525.000000       High\n",
       "3  Rest of Vic.      Q1  294.666667   Very Low\n",
       "4      Brisbane      Q1  460.000000       High"
      ]
     },
     "execution_count": 15,
     "metadata": {},
     "output_type": "execute_result"
    }
   ],
   "source": [
    "df.head()"
   ]
  },
  {
   "cell_type": "code",
   "execution_count": 16,
   "metadata": {},
   "outputs": [
    {
     "data": {
      "text/html": [
       "<div>\n",
       "<style scoped>\n",
       "    .dataframe tbody tr th:only-of-type {\n",
       "        vertical-align: middle;\n",
       "    }\n",
       "\n",
       "    .dataframe tbody tr th {\n",
       "        vertical-align: top;\n",
       "    }\n",
       "\n",
       "    .dataframe thead th {\n",
       "        text-align: right;\n",
       "    }\n",
       "</style>\n",
       "<table border=\"1\" class=\"dataframe\">\n",
       "  <thead>\n",
       "    <tr style=\"text-align: right;\">\n",
       "      <th></th>\n",
       "      <th>City</th>\n",
       "      <th>Quarter</th>\n",
       "      <th>Price</th>\n",
       "      <th>Bin</th>\n",
       "      <th>Price-Smoothing-mean</th>\n",
       "    </tr>\n",
       "  </thead>\n",
       "  <tbody>\n",
       "    <tr>\n",
       "      <th>0</th>\n",
       "      <td>Sydney</td>\n",
       "      <td>Q1</td>\n",
       "      <td>700.000000</td>\n",
       "      <td>Very High</td>\n",
       "      <td>634.763889</td>\n",
       "    </tr>\n",
       "    <tr>\n",
       "      <th>1</th>\n",
       "      <td>Rest of NSW</td>\n",
       "      <td>Q1</td>\n",
       "      <td>370.000000</td>\n",
       "      <td>Low</td>\n",
       "      <td>372.416667</td>\n",
       "    </tr>\n",
       "    <tr>\n",
       "      <th>2</th>\n",
       "      <td>Melbourne</td>\n",
       "      <td>Q1</td>\n",
       "      <td>525.000000</td>\n",
       "      <td>High</td>\n",
       "      <td>519.961111</td>\n",
       "    </tr>\n",
       "    <tr>\n",
       "      <th>3</th>\n",
       "      <td>Rest of Vic.</td>\n",
       "      <td>Q1</td>\n",
       "      <td>294.666667</td>\n",
       "      <td>Very Low</td>\n",
       "      <td>270.805556</td>\n",
       "    </tr>\n",
       "    <tr>\n",
       "      <th>4</th>\n",
       "      <td>Brisbane</td>\n",
       "      <td>Q1</td>\n",
       "      <td>460.000000</td>\n",
       "      <td>High</td>\n",
       "      <td>519.961111</td>\n",
       "    </tr>\n",
       "  </tbody>\n",
       "</table>\n",
       "</div>"
      ],
      "text/plain": [
       "           City Quarter       Price        Bin  Price-Smoothing-mean\n",
       "0        Sydney      Q1  700.000000  Very High            634.763889\n",
       "1   Rest of NSW      Q1  370.000000        Low            372.416667\n",
       "2     Melbourne      Q1  525.000000       High            519.961111\n",
       "3  Rest of Vic.      Q1  294.666667   Very Low            270.805556\n",
       "4      Brisbane      Q1  460.000000       High            519.961111"
      ]
     },
     "execution_count": 16,
     "metadata": {},
     "output_type": "execute_result"
    }
   ],
   "source": [
    "df['Price-Smoothing-mean'] = df.groupby('Bin')['Price'].transform('mean')\n",
    "df.head()"
   ]
  },
  {
   "cell_type": "markdown",
   "metadata": {},
   "source": [
    "### Smoothing by Bin Max"
   ]
  },
  {
   "cell_type": "code",
   "execution_count": 17,
   "metadata": {},
   "outputs": [
    {
     "data": {
      "text/html": [
       "<div>\n",
       "<style scoped>\n",
       "    .dataframe tbody tr th:only-of-type {\n",
       "        vertical-align: middle;\n",
       "    }\n",
       "\n",
       "    .dataframe tbody tr th {\n",
       "        vertical-align: top;\n",
       "    }\n",
       "\n",
       "    .dataframe thead th {\n",
       "        text-align: right;\n",
       "    }\n",
       "</style>\n",
       "<table border=\"1\" class=\"dataframe\">\n",
       "  <thead>\n",
       "    <tr style=\"text-align: right;\">\n",
       "      <th></th>\n",
       "      <th>City</th>\n",
       "      <th>Quarter</th>\n",
       "      <th>Price</th>\n",
       "      <th>Bin</th>\n",
       "      <th>Price-Smoothing-mean</th>\n",
       "      <th>Price-Smoothing-max</th>\n",
       "    </tr>\n",
       "  </thead>\n",
       "  <tbody>\n",
       "    <tr>\n",
       "      <th>0</th>\n",
       "      <td>Sydney</td>\n",
       "      <td>Q1</td>\n",
       "      <td>700.000000</td>\n",
       "      <td>Very High</td>\n",
       "      <td>634.763889</td>\n",
       "      <td>835.0</td>\n",
       "    </tr>\n",
       "    <tr>\n",
       "      <th>1</th>\n",
       "      <td>Rest of NSW</td>\n",
       "      <td>Q1</td>\n",
       "      <td>370.000000</td>\n",
       "      <td>Low</td>\n",
       "      <td>372.416667</td>\n",
       "      <td>387.5</td>\n",
       "    </tr>\n",
       "    <tr>\n",
       "      <th>2</th>\n",
       "      <td>Melbourne</td>\n",
       "      <td>Q1</td>\n",
       "      <td>525.000000</td>\n",
       "      <td>High</td>\n",
       "      <td>519.961111</td>\n",
       "      <td>555.0</td>\n",
       "    </tr>\n",
       "    <tr>\n",
       "      <th>3</th>\n",
       "      <td>Rest of Vic.</td>\n",
       "      <td>Q1</td>\n",
       "      <td>294.666667</td>\n",
       "      <td>Very Low</td>\n",
       "      <td>270.805556</td>\n",
       "      <td>302.0</td>\n",
       "    </tr>\n",
       "    <tr>\n",
       "      <th>4</th>\n",
       "      <td>Brisbane</td>\n",
       "      <td>Q1</td>\n",
       "      <td>460.000000</td>\n",
       "      <td>High</td>\n",
       "      <td>519.961111</td>\n",
       "      <td>555.0</td>\n",
       "    </tr>\n",
       "  </tbody>\n",
       "</table>\n",
       "</div>"
      ],
      "text/plain": [
       "           City Quarter       Price        Bin  Price-Smoothing-mean  \\\n",
       "0        Sydney      Q1  700.000000  Very High            634.763889   \n",
       "1   Rest of NSW      Q1  370.000000        Low            372.416667   \n",
       "2     Melbourne      Q1  525.000000       High            519.961111   \n",
       "3  Rest of Vic.      Q1  294.666667   Very Low            270.805556   \n",
       "4      Brisbane      Q1  460.000000       High            519.961111   \n",
       "\n",
       "   Price-Smoothing-max  \n",
       "0                835.0  \n",
       "1                387.5  \n",
       "2                555.0  \n",
       "3                302.0  \n",
       "4                555.0  "
      ]
     },
     "execution_count": 17,
     "metadata": {},
     "output_type": "execute_result"
    }
   ],
   "source": [
    "df['Price-Smoothing-max'] = df.groupby('Bin')['Price'].transform('max')\n",
    "df.head()"
   ]
  },
  {
   "cell_type": "markdown",
   "metadata": {},
   "source": [
    "## Normalization"
   ]
  },
  {
   "cell_type": "code",
   "execution_count": 18,
   "metadata": {},
   "outputs": [
    {
     "data": {
      "text/html": [
       "<div>\n",
       "<style scoped>\n",
       "    .dataframe tbody tr th:only-of-type {\n",
       "        vertical-align: middle;\n",
       "    }\n",
       "\n",
       "    .dataframe tbody tr th {\n",
       "        vertical-align: top;\n",
       "    }\n",
       "\n",
       "    .dataframe thead th {\n",
       "        text-align: right;\n",
       "    }\n",
       "</style>\n",
       "<table border=\"1\" class=\"dataframe\">\n",
       "  <thead>\n",
       "    <tr style=\"text-align: right;\">\n",
       "      <th></th>\n",
       "      <th>City</th>\n",
       "      <th>Q1</th>\n",
       "      <th>Q2</th>\n",
       "      <th>Q3</th>\n",
       "      <th>Q4</th>\n",
       "    </tr>\n",
       "  </thead>\n",
       "  <tbody>\n",
       "    <tr>\n",
       "      <th>0</th>\n",
       "      <td>Sydney</td>\n",
       "      <td>700.0</td>\n",
       "      <td>750.0</td>\n",
       "      <td>750.0</td>\n",
       "      <td>835.0</td>\n",
       "    </tr>\n",
       "    <tr>\n",
       "      <th>1</th>\n",
       "      <td>Rest of NSW</td>\n",
       "      <td>370.0</td>\n",
       "      <td>375.0</td>\n",
       "      <td>373.0</td>\n",
       "      <td>385.0</td>\n",
       "    </tr>\n",
       "    <tr>\n",
       "      <th>2</th>\n",
       "      <td>Melbourne</td>\n",
       "      <td>525.0</td>\n",
       "      <td>555.5</td>\n",
       "      <td>540.0</td>\n",
       "      <td>580.0</td>\n",
       "    </tr>\n",
       "    <tr>\n",
       "      <th>3</th>\n",
       "      <td>Rest of Vic.</td>\n",
       "      <td>300.0</td>\n",
       "      <td>295.0</td>\n",
       "      <td>287.0</td>\n",
       "      <td>302.0</td>\n",
       "    </tr>\n",
       "    <tr>\n",
       "      <th>4</th>\n",
       "      <td>Brisbane</td>\n",
       "      <td>460.0</td>\n",
       "      <td>474.9</td>\n",
       "      <td>471.0</td>\n",
       "      <td>485.0</td>\n",
       "    </tr>\n",
       "  </tbody>\n",
       "</table>\n",
       "</div>"
      ],
      "text/plain": [
       "           City     Q1     Q2     Q3     Q4\n",
       "0        Sydney  700.0  750.0  750.0  835.0\n",
       "1   Rest of NSW  370.0  375.0  373.0  385.0\n",
       "2     Melbourne  525.0  555.5  540.0  580.0\n",
       "3  Rest of Vic.  300.0  295.0  287.0  302.0\n",
       "4      Brisbane  460.0  474.9  471.0  485.0"
      ]
     },
     "execution_count": 18,
     "metadata": {},
     "output_type": "execute_result"
    }
   ],
   "source": [
    "df = pd.read_csv('./asset/Median Price of Established House.txt', sep='\\t')\n",
    "df.head()"
   ]
  },
  {
   "cell_type": "markdown",
   "metadata": {},
   "source": [
    "### Standard Scaler"
   ]
  },
  {
   "cell_type": "code",
   "execution_count": 19,
   "metadata": {
    "scrolled": true
   },
   "outputs": [
    {
     "data": {
      "text/html": [
       "<div>\n",
       "<style scoped>\n",
       "    .dataframe tbody tr th:only-of-type {\n",
       "        vertical-align: middle;\n",
       "    }\n",
       "\n",
       "    .dataframe tbody tr th {\n",
       "        vertical-align: top;\n",
       "    }\n",
       "\n",
       "    .dataframe thead th {\n",
       "        text-align: right;\n",
       "    }\n",
       "</style>\n",
       "<table border=\"1\" class=\"dataframe\">\n",
       "  <thead>\n",
       "    <tr style=\"text-align: right;\">\n",
       "      <th></th>\n",
       "      <th>City</th>\n",
       "      <th>0</th>\n",
       "      <th>1</th>\n",
       "      <th>2</th>\n",
       "      <th>3</th>\n",
       "    </tr>\n",
       "  </thead>\n",
       "  <tbody>\n",
       "    <tr>\n",
       "      <th>0</th>\n",
       "      <td>Sydney</td>\n",
       "      <td>2.150188</td>\n",
       "      <td>2.360452</td>\n",
       "      <td>2.379522</td>\n",
       "      <td>2.611997</td>\n",
       "    </tr>\n",
       "    <tr>\n",
       "      <th>1</th>\n",
       "      <td>Rest of NSW</td>\n",
       "      <td>-0.544010</td>\n",
       "      <td>-0.477782</td>\n",
       "      <td>-0.506402</td>\n",
       "      <td>-0.488501</td>\n",
       "    </tr>\n",
       "    <tr>\n",
       "      <th>2</th>\n",
       "      <td>Melbourne</td>\n",
       "      <td>0.721446</td>\n",
       "      <td>0.888355</td>\n",
       "      <td>0.771978</td>\n",
       "      <td>0.855048</td>\n",
       "    </tr>\n",
       "    <tr>\n",
       "      <th>3</th>\n",
       "      <td>Rest of Vic.</td>\n",
       "      <td>-1.115507</td>\n",
       "      <td>-1.083272</td>\n",
       "      <td>-1.164729</td>\n",
       "      <td>-1.060370</td>\n",
       "    </tr>\n",
       "    <tr>\n",
       "      <th>4</th>\n",
       "      <td>Brisbane</td>\n",
       "      <td>0.190771</td>\n",
       "      <td>0.278324</td>\n",
       "      <td>0.243785</td>\n",
       "      <td>0.200499</td>\n",
       "    </tr>\n",
       "    <tr>\n",
       "      <th>5</th>\n",
       "      <td>Rest of Qld.</td>\n",
       "      <td>-0.299083</td>\n",
       "      <td>-0.250723</td>\n",
       "      <td>-0.299718</td>\n",
       "      <td>-0.309361</td>\n",
       "    </tr>\n",
       "    <tr>\n",
       "      <th>6</th>\n",
       "      <td>Adelaide</td>\n",
       "      <td>-0.176620</td>\n",
       "      <td>-0.212880</td>\n",
       "      <td>-0.155804</td>\n",
       "      <td>-0.195676</td>\n",
       "    </tr>\n",
       "    <tr>\n",
       "      <th>7</th>\n",
       "      <td>Rest of SA</td>\n",
       "      <td>-1.401255</td>\n",
       "      <td>-1.340605</td>\n",
       "      <td>-1.409688</td>\n",
       "      <td>-1.246400</td>\n",
       "    </tr>\n",
       "    <tr>\n",
       "      <th>8</th>\n",
       "      <td>Perth</td>\n",
       "      <td>0.925552</td>\n",
       "      <td>0.771041</td>\n",
       "      <td>0.848528</td>\n",
       "      <td>0.682798</td>\n",
       "    </tr>\n",
       "    <tr>\n",
       "      <th>9</th>\n",
       "      <td>Rest of WA</td>\n",
       "      <td>-0.401136</td>\n",
       "      <td>-0.462645</td>\n",
       "      <td>-0.452817</td>\n",
       "      <td>-0.485056</td>\n",
       "    </tr>\n",
       "    <tr>\n",
       "      <th>10</th>\n",
       "      <td>Hobart</td>\n",
       "      <td>-0.568503</td>\n",
       "      <td>-0.704841</td>\n",
       "      <td>-0.682466</td>\n",
       "      <td>-0.626300</td>\n",
       "    </tr>\n",
       "    <tr>\n",
       "      <th>11</th>\n",
       "      <td>Rest of Tas.</td>\n",
       "      <td>-1.523719</td>\n",
       "      <td>-1.499546</td>\n",
       "      <td>-1.333139</td>\n",
       "      <td>-1.349750</td>\n",
       "    </tr>\n",
       "    <tr>\n",
       "      <th>12</th>\n",
       "      <td>Darwin</td>\n",
       "      <td>1.252122</td>\n",
       "      <td>0.986747</td>\n",
       "      <td>0.963353</td>\n",
       "      <td>0.872273</td>\n",
       "    </tr>\n",
       "    <tr>\n",
       "      <th>13</th>\n",
       "      <td>Rest of NT</td>\n",
       "      <td>-0.176620</td>\n",
       "      <td>-0.099351</td>\n",
       "      <td>-0.127481</td>\n",
       "      <td>-0.247351</td>\n",
       "    </tr>\n",
       "    <tr>\n",
       "      <th>14</th>\n",
       "      <td>Canberra</td>\n",
       "      <td>0.966373</td>\n",
       "      <td>0.846727</td>\n",
       "      <td>0.925078</td>\n",
       "      <td>0.786148</td>\n",
       "    </tr>\n",
       "  </tbody>\n",
       "</table>\n",
       "</div>"
      ],
      "text/plain": [
       "            City         0         1         2         3\n",
       "0         Sydney  2.150188  2.360452  2.379522  2.611997\n",
       "1    Rest of NSW -0.544010 -0.477782 -0.506402 -0.488501\n",
       "2      Melbourne  0.721446  0.888355  0.771978  0.855048\n",
       "3   Rest of Vic. -1.115507 -1.083272 -1.164729 -1.060370\n",
       "4       Brisbane  0.190771  0.278324  0.243785  0.200499\n",
       "5   Rest of Qld. -0.299083 -0.250723 -0.299718 -0.309361\n",
       "6       Adelaide -0.176620 -0.212880 -0.155804 -0.195676\n",
       "7     Rest of SA -1.401255 -1.340605 -1.409688 -1.246400\n",
       "8          Perth  0.925552  0.771041  0.848528  0.682798\n",
       "9     Rest of WA -0.401136 -0.462645 -0.452817 -0.485056\n",
       "10        Hobart -0.568503 -0.704841 -0.682466 -0.626300\n",
       "11  Rest of Tas. -1.523719 -1.499546 -1.333139 -1.349750\n",
       "12        Darwin  1.252122  0.986747  0.963353  0.872273\n",
       "13    Rest of NT -0.176620 -0.099351 -0.127481 -0.247351\n",
       "14      Canberra  0.966373  0.846727  0.925078  0.786148"
      ]
     },
     "execution_count": 19,
     "metadata": {},
     "output_type": "execute_result"
    }
   ],
   "source": [
    "from sklearn import preprocessing\n",
    "\n",
    "min_max_scaler = preprocessing.StandardScaler()\n",
    "x_scaled = min_max_scaler.fit_transform(df[df.columns[1:5]]) # we need to remove the first column\n",
    "\n",
    "\n",
    "df_standard = pd.DataFrame(x_scaled)\n",
    "df_standard.insert(0, 'City', df.City)\n",
    "df_standard"
   ]
  },
  {
   "cell_type": "markdown",
   "metadata": {},
   "source": [
    "## Robust Scaler"
   ]
  },
  {
   "cell_type": "code",
   "execution_count": 20,
   "metadata": {},
   "outputs": [
    {
     "data": {
      "text/html": [
       "<div>\n",
       "<style scoped>\n",
       "    .dataframe tbody tr th:only-of-type {\n",
       "        vertical-align: middle;\n",
       "    }\n",
       "\n",
       "    .dataframe tbody tr th {\n",
       "        vertical-align: top;\n",
       "    }\n",
       "\n",
       "    .dataframe thead th {\n",
       "        text-align: right;\n",
       "    }\n",
       "</style>\n",
       "<table border=\"1\" class=\"dataframe\">\n",
       "  <thead>\n",
       "    <tr style=\"text-align: right;\">\n",
       "      <th></th>\n",
       "      <th>City</th>\n",
       "      <th>0</th>\n",
       "      <th>1</th>\n",
       "      <th>2</th>\n",
       "      <th>3</th>\n",
       "    </tr>\n",
       "  </thead>\n",
       "  <tbody>\n",
       "    <tr>\n",
       "      <th>0</th>\n",
       "      <td>Sydney</td>\n",
       "      <td>1.686391</td>\n",
       "      <td>1.837838</td>\n",
       "      <td>1.804905</td>\n",
       "      <td>2.213333</td>\n",
       "    </tr>\n",
       "    <tr>\n",
       "      <th>1</th>\n",
       "      <td>Rest of NSW</td>\n",
       "      <td>-0.266272</td>\n",
       "      <td>-0.189189</td>\n",
       "      <td>-0.249591</td>\n",
       "      <td>-0.186667</td>\n",
       "    </tr>\n",
       "    <tr>\n",
       "      <th>2</th>\n",
       "      <td>Melbourne</td>\n",
       "      <td>0.650888</td>\n",
       "      <td>0.786486</td>\n",
       "      <td>0.660490</td>\n",
       "      <td>0.853333</td>\n",
       "    </tr>\n",
       "    <tr>\n",
       "      <th>3</th>\n",
       "      <td>Rest of Vic.</td>\n",
       "      <td>-0.680473</td>\n",
       "      <td>-0.621622</td>\n",
       "      <td>-0.718256</td>\n",
       "      <td>-0.629333</td>\n",
       "    </tr>\n",
       "    <tr>\n",
       "      <th>4</th>\n",
       "      <td>Brisbane</td>\n",
       "      <td>0.266272</td>\n",
       "      <td>0.350811</td>\n",
       "      <td>0.284469</td>\n",
       "      <td>0.346667</td>\n",
       "    </tr>\n",
       "    <tr>\n",
       "      <th>5</th>\n",
       "      <td>Rest of Qld.</td>\n",
       "      <td>-0.088757</td>\n",
       "      <td>-0.027027</td>\n",
       "      <td>-0.102452</td>\n",
       "      <td>-0.048000</td>\n",
       "    </tr>\n",
       "    <tr>\n",
       "      <th>6</th>\n",
       "      <td>Adelaide</td>\n",
       "      <td>0.000000</td>\n",
       "      <td>0.000000</td>\n",
       "      <td>0.000000</td>\n",
       "      <td>0.040000</td>\n",
       "    </tr>\n",
       "    <tr>\n",
       "      <th>7</th>\n",
       "      <td>Rest of SA</td>\n",
       "      <td>-0.887574</td>\n",
       "      <td>-0.805405</td>\n",
       "      <td>-0.892643</td>\n",
       "      <td>-0.773333</td>\n",
       "    </tr>\n",
       "    <tr>\n",
       "      <th>8</th>\n",
       "      <td>Perth</td>\n",
       "      <td>0.798817</td>\n",
       "      <td>0.702703</td>\n",
       "      <td>0.714986</td>\n",
       "      <td>0.720000</td>\n",
       "    </tr>\n",
       "    <tr>\n",
       "      <th>9</th>\n",
       "      <td>Rest of WA</td>\n",
       "      <td>-0.162722</td>\n",
       "      <td>-0.178378</td>\n",
       "      <td>-0.211444</td>\n",
       "      <td>-0.184000</td>\n",
       "    </tr>\n",
       "    <tr>\n",
       "      <th>10</th>\n",
       "      <td>Hobart</td>\n",
       "      <td>-0.284024</td>\n",
       "      <td>-0.351351</td>\n",
       "      <td>-0.374932</td>\n",
       "      <td>-0.293333</td>\n",
       "    </tr>\n",
       "    <tr>\n",
       "      <th>11</th>\n",
       "      <td>Rest of Tas.</td>\n",
       "      <td>-0.976331</td>\n",
       "      <td>-0.918919</td>\n",
       "      <td>-0.838147</td>\n",
       "      <td>-0.853333</td>\n",
       "    </tr>\n",
       "    <tr>\n",
       "      <th>12</th>\n",
       "      <td>Darwin</td>\n",
       "      <td>1.035503</td>\n",
       "      <td>0.856757</td>\n",
       "      <td>0.796730</td>\n",
       "      <td>0.866667</td>\n",
       "    </tr>\n",
       "    <tr>\n",
       "      <th>13</th>\n",
       "      <td>Rest of NT</td>\n",
       "      <td>0.000000</td>\n",
       "      <td>0.081081</td>\n",
       "      <td>0.020163</td>\n",
       "      <td>0.000000</td>\n",
       "    </tr>\n",
       "    <tr>\n",
       "      <th>14</th>\n",
       "      <td>Canberra</td>\n",
       "      <td>0.828402</td>\n",
       "      <td>0.756757</td>\n",
       "      <td>0.769482</td>\n",
       "      <td>0.800000</td>\n",
       "    </tr>\n",
       "  </tbody>\n",
       "</table>\n",
       "</div>"
      ],
      "text/plain": [
       "            City         0         1         2         3\n",
       "0         Sydney  1.686391  1.837838  1.804905  2.213333\n",
       "1    Rest of NSW -0.266272 -0.189189 -0.249591 -0.186667\n",
       "2      Melbourne  0.650888  0.786486  0.660490  0.853333\n",
       "3   Rest of Vic. -0.680473 -0.621622 -0.718256 -0.629333\n",
       "4       Brisbane  0.266272  0.350811  0.284469  0.346667\n",
       "5   Rest of Qld. -0.088757 -0.027027 -0.102452 -0.048000\n",
       "6       Adelaide  0.000000  0.000000  0.000000  0.040000\n",
       "7     Rest of SA -0.887574 -0.805405 -0.892643 -0.773333\n",
       "8          Perth  0.798817  0.702703  0.714986  0.720000\n",
       "9     Rest of WA -0.162722 -0.178378 -0.211444 -0.184000\n",
       "10        Hobart -0.284024 -0.351351 -0.374932 -0.293333\n",
       "11  Rest of Tas. -0.976331 -0.918919 -0.838147 -0.853333\n",
       "12        Darwin  1.035503  0.856757  0.796730  0.866667\n",
       "13    Rest of NT  0.000000  0.081081  0.020163  0.000000\n",
       "14      Canberra  0.828402  0.756757  0.769482  0.800000"
      ]
     },
     "execution_count": 20,
     "metadata": {},
     "output_type": "execute_result"
    }
   ],
   "source": [
    "from sklearn import preprocessing\n",
    "\n",
    "min_max_scaler = preprocessing.RobustScaler()\n",
    "x_scaled = min_max_scaler.fit_transform(df[df.columns[1:5]]) # we need to remove the first column\n",
    "\n",
    "df_robust = pd.DataFrame(x_scaled)\n",
    "df_robust.insert(0, 'City', df.City)\n",
    "df_robust"
   ]
  },
  {
   "cell_type": "markdown",
   "metadata": {},
   "source": [
    "## Histograms"
   ]
  },
  {
   "cell_type": "code",
   "execution_count": 21,
   "metadata": {},
   "outputs": [
    {
     "data": {
      "text/html": [
       "<div>\n",
       "<style scoped>\n",
       "    .dataframe tbody tr th:only-of-type {\n",
       "        vertical-align: middle;\n",
       "    }\n",
       "\n",
       "    .dataframe tbody tr th {\n",
       "        vertical-align: top;\n",
       "    }\n",
       "\n",
       "    .dataframe thead th {\n",
       "        text-align: right;\n",
       "    }\n",
       "</style>\n",
       "<table border=\"1\" class=\"dataframe\">\n",
       "  <thead>\n",
       "    <tr style=\"text-align: right;\">\n",
       "      <th></th>\n",
       "      <th>City</th>\n",
       "      <th>Q1</th>\n",
       "      <th>Q2</th>\n",
       "      <th>Q3</th>\n",
       "      <th>Q4</th>\n",
       "    </tr>\n",
       "  </thead>\n",
       "  <tbody>\n",
       "    <tr>\n",
       "      <th>0</th>\n",
       "      <td>Sydney</td>\n",
       "      <td>700.0</td>\n",
       "      <td>750.0</td>\n",
       "      <td>750.0</td>\n",
       "      <td>835.0</td>\n",
       "    </tr>\n",
       "    <tr>\n",
       "      <th>1</th>\n",
       "      <td>Rest of NSW</td>\n",
       "      <td>370.0</td>\n",
       "      <td>375.0</td>\n",
       "      <td>373.0</td>\n",
       "      <td>385.0</td>\n",
       "    </tr>\n",
       "    <tr>\n",
       "      <th>2</th>\n",
       "      <td>Melbourne</td>\n",
       "      <td>525.0</td>\n",
       "      <td>555.5</td>\n",
       "      <td>540.0</td>\n",
       "      <td>580.0</td>\n",
       "    </tr>\n",
       "    <tr>\n",
       "      <th>3</th>\n",
       "      <td>Rest of Vic.</td>\n",
       "      <td>300.0</td>\n",
       "      <td>295.0</td>\n",
       "      <td>287.0</td>\n",
       "      <td>302.0</td>\n",
       "    </tr>\n",
       "    <tr>\n",
       "      <th>4</th>\n",
       "      <td>Brisbane</td>\n",
       "      <td>460.0</td>\n",
       "      <td>474.9</td>\n",
       "      <td>471.0</td>\n",
       "      <td>485.0</td>\n",
       "    </tr>\n",
       "  </tbody>\n",
       "</table>\n",
       "</div>"
      ],
      "text/plain": [
       "           City     Q1     Q2     Q3     Q4\n",
       "0        Sydney  700.0  750.0  750.0  835.0\n",
       "1   Rest of NSW  370.0  375.0  373.0  385.0\n",
       "2     Melbourne  525.0  555.5  540.0  580.0\n",
       "3  Rest of Vic.  300.0  295.0  287.0  302.0\n",
       "4      Brisbane  460.0  474.9  471.0  485.0"
      ]
     },
     "execution_count": 21,
     "metadata": {},
     "output_type": "execute_result"
    }
   ],
   "source": [
    "df = pd.read_csv('./asset/Median Price of Established House.txt', sep='\\t')\n",
    "df.head()"
   ]
  },
  {
   "cell_type": "code",
   "execution_count": 22,
   "metadata": {},
   "outputs": [
    {
     "data": {
      "text/plain": [
       "array([[<matplotlib.axes._subplots.AxesSubplot object at 0x115d8ab38>,\n",
       "        <matplotlib.axes._subplots.AxesSubplot object at 0x115dd7438>]],\n",
       "      dtype=object)"
      ]
     },
     "execution_count": 22,
     "metadata": {},
     "output_type": "execute_result"
    },
    {
     "data": {
      "image/png": "[encoded data removed]",
      "text/plain": [
       "<Figure size 1152x432 with 2 Axes>"
      ]
     },
     "metadata": {},
     "output_type": "display_data"
    }
   ],
   "source": [
    "# use bins=x to control the number of bins\n",
    "df.hist(column=['Q1','Q3'],bins=6,alpha=0.5,figsize=(16, 6))"
   ]
  },
  {
   "cell_type": "markdown",
   "metadata": {},
   "source": [
    "## Scatter"
   ]
  },
  {
   "cell_type": "code",
   "execution_count": 23,
   "metadata": {},
   "outputs": [
    {
     "data": {
      "image/png": "[encoded data removed]",
      "text/plain": [
       "<Figure size 432x288 with 1 Axes>"
      ]
     },
     "metadata": {},
     "output_type": "display_data"
    }
   ],
   "source": [
    "df.plot.scatter(x='Q1', y='Q3');"
   ]
  },
  {
   "cell_type": "markdown",
   "metadata": {},
   "source": [
    "Scatter matrix provide a better way to discover the relationships in data"
   ]
  },
  {
   "cell_type": "code",
   "execution_count": 25,
   "metadata": {},
   "outputs": [
    {
     "data": {
      "text/plain": [
       "array([[<matplotlib.axes._subplots.AxesSubplot object at 0x116f59b70>,\n",
       "        <matplotlib.axes._subplots.AxesSubplot object at 0x1172967f0>,\n",
       "        <matplotlib.axes._subplots.AxesSubplot object at 0x1172b7d68>,\n",
       "        <matplotlib.axes._subplots.AxesSubplot object at 0x1174dd438>],\n",
       "       [<matplotlib.axes._subplots.AxesSubplot object at 0x117503ac8>,\n",
       "        <matplotlib.axes._subplots.AxesSubplot object at 0x117503b00>,\n",
       "        <matplotlib.axes._subplots.AxesSubplot object at 0x11755c828>,\n",
       "        <matplotlib.axes._subplots.AxesSubplot object at 0x117583eb8>],\n",
       "       [<matplotlib.axes._subplots.AxesSubplot object at 0x1175b5588>,\n",
       "        <matplotlib.axes._subplots.AxesSubplot object at 0x1175dec18>,\n",
       "        <matplotlib.axes._subplots.AxesSubplot object at 0x11760f2e8>,\n",
       "        <matplotlib.axes._subplots.AxesSubplot object at 0x117638978>],\n",
       "       [<matplotlib.axes._subplots.AxesSubplot object at 0x11766b048>,\n",
       "        <matplotlib.axes._subplots.AxesSubplot object at 0x1176916d8>,\n",
       "        <matplotlib.axes._subplots.AxesSubplot object at 0x1176bbd68>,\n",
       "        <matplotlib.axes._subplots.AxesSubplot object at 0x117801438>]],\n",
       "      dtype=object)"
      ]
     },
     "execution_count": 25,
     "metadata": {},
     "output_type": "execute_result"
    },
    {
     "data": {
      "image/png": "[encoded data removed]",
      "text/plain": [
       "<Figure size 864x864 with 16 Axes>"
      ]
     },
     "metadata": {},
     "output_type": "display_data"
    }
   ],
   "source": [
    "from pandas.plotting import scatter_matrix\n",
    "\n",
    "scatter_matrix(df, alpha=0.9, figsize=(12, 12), diagonal='hist') # set the diagonal figures to be histograms"
   ]
  },
  {
   "cell_type": "code",
   "execution_count": null,
   "metadata": {
    "collapsed": true
   },
   "outputs": [],
   "source": []
  },
  {
   "cell_type": "markdown",
   "metadata": {
    "collapsed": true
   },
   "source": [
    "## Further reading\n",
    "\n",
    "* https://blog.modeanalytics.com/python-data-cleaning-libraries/?utm_campaign=Data%2BElixir&utm_medium=email&utm_source=Data_Elixir_94"
   ]
  },
  {
   "cell_type": "code",
   "execution_count": null,
   "metadata": {
    "collapsed": true
   },
   "outputs": [],
   "source": []
  }
 ],
 "metadata": {
  "kernelspec": {
   "display_name": "Python 3",
   "language": "python",
   "name": "python3"
  },
  "language_info": {
   "codemirror_mode": {
    "name": "ipython",
    "version": 3
   },
   "file_extension": ".py",
   "mimetype": "text/x-python",
   "name": "python",
   "nbconvert_exporter": "python",
   "pygments_lexer": "ipython3",
   "version": "3.6.5"
  }
 },
 "nbformat": 4,
 "nbformat_minor": 1
}
