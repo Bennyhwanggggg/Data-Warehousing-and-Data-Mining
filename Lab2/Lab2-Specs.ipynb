{
 "cells": [
  {
   "cell_type": "markdown",
   "metadata": {},
   "source": [
    "# COMP9318 Lab2"
   ]
  },
  {
   "cell_type": "markdown",
   "metadata": {
    "collapsed": true
   },
   "source": [
    "## Instructions\n",
    "1. This note book contains instructions for **COMP9318-Lab2**.\n",
    "\n",
    "* You are required to complete your implementation in a file `submission.py` provided along with this notebook.\n",
    "\n",
    "* You are not allowed to print out unnecessary stuff. We will not consider any output printed out on the screen. All results should be returned in appropriate data structures return by corresponding functions.\n",
    "\n",
    "* You need to submit the code for **lab2** via following link: https://kg.cse.unsw.edu.au/submit/\n",
    "\n",
    "* For each question, we have provided you with detailed instructions along with question headings. In case of any problem, you can post your query @ Piazza.\n",
    "\n",
    "* If you choose to skip a question, leave the corresponding function body as it is (i.e., keep the `pass` line), otherwise it may affect your mark for other questions.\n",
    "\n",
    "* You are allowed to add other functions and/or import additional modules (you may have to in this lab), but you are not allowed to define global variables. **Only functions are allowed** in `submission.py`. \n",
    "\n",
    "* You should not import unnecessary modules/libraries, failing to import such modules at test time will lead to errors.\n",
    "\n",
    "* We will provide immediate feedback on your submission. You can access your scores using the online submission portal on the same day. \n",
    "\n",
    "* For **Final Evaluation** we will be using a different dataset, so your final scores may vary.  \n",
    "\n",
    "* You are allowed to submit as many times as you want before the deadline, but **ONLY the latest version will be kept and marked**.\n",
    "\n",
    "* Submission deadline for this assignment is **23:59:59 on 21st March, 2019**. We will **not** accept any late submissions."
   ]
  },
  {
   "cell_type": "markdown",
   "metadata": {},
   "source": [
    "# Question 1: Optimal binning algorithm using dynamic programming (100 points)"
   ]
  },
  {
   "cell_type": "code",
   "execution_count": 1,
   "metadata": {},
   "outputs": [],
   "source": [
    "# These are the only modules that you can use in lab2\n",
    "import pandas as pd\n",
    "import numpy as np"
   ]
  },
  {
   "cell_type": "markdown",
   "metadata": {},
   "source": [
    "In this lab, you need to implement the optimal binning algorithm using the dynamic programming algorithm we discussed in the lecture. You are only allowed to use $O(n^2)$ space. \n",
    "\n",
    "## Input\n",
    "\n",
    "The input contains data (in a list) and the number of bins (an integer).\n",
    "\n",
    "## Output\n",
    "\n",
    "You are required to output the binning result and the matrix computed by the algorithm.\n",
    "\n",
    "The matrix entries record optimal binning cost for a suffix of the input array using a certain number of bins. You should assign -1 to all the invalid solutions."
   ]
  },
  {
   "cell_type": "code",
   "execution_count": 2,
   "metadata": {},
   "outputs": [],
   "source": [
    "x = [3, 1, 18, 11, 13, 17]\n",
    "num_bins = 4"
   ]
  },
  {
   "cell_type": "code",
   "execution_count": 3,
   "metadata": {},
   "outputs": [],
   "source": [
    "def sse(nums):\n",
    "    if not len(nums):\n",
    "        return 0\n",
    "    avg = np.average(nums)\n",
    "    result = sum([(x-avg)*(x-avg) for x in nums])\n",
    "    return result\n",
    "\n",
    "def v_opt_dp(x, b):# do not change the heading of the function\n",
    "    dp_matrix = [[-1 for i in range(len(x))] for j in range(b)]\n",
    "    dp_index = [[-1 for i in range(len(x))] for j in range(b)]\n",
    "    \n",
    "    for i in range(b):\n",
    "        for j in range(len(x)):\n",
    "            if (b-i-j) >= 2 or len(x)-j <= i:\n",
    "                continue\n",
    "            if not i:\n",
    "                dp_matrix[i][j] = sse(x[j:])\n",
    "            else:\n",
    "                row = []\n",
    "                for k in range(j, len(x)):\n",
    "                    opt1 = sse(x[j:k+1])\n",
    "                    opt2 = opt1+dp_matrix[i-1][k+1] if (k+1)<=len(x)-1 else opt1\n",
    "                    row.append(opt2)\n",
    "                min_val = min(row)\n",
    "                dp_matrix[i][j] = min_val\n",
    "                temp_index = j+1\n",
    "                for val in row:\n",
    "                    if val == min_val:\n",
    "                        dp_index[i][j] = temp_index\n",
    "                        break\n",
    "                    temp_index += 1\n",
    "    start = dp_index[-1][0]\n",
    "    bins = []\n",
    "    prev = start\n",
    "    bins.append(x[0:start])\n",
    "    for i in range(len(dp_index)-2, 0, -1):\n",
    "        start = dp_index[i][start]\n",
    "        bins.append(x[prev:start])\n",
    "        prev = start\n",
    "    bins.append(x[start:])\n",
    "    return dp_matrix, bins\n",
    "                    \n",
    "    \n"
   ]
  },
  {
   "cell_type": "code",
   "execution_count": 4,
   "metadata": {},
   "outputs": [
    {
     "name": "stdout",
     "output_type": "stream",
     "text": [
      "Bins = [[3, 1], [18], [11, 13], [17]]\n",
      "Matrix =\n",
      "[-1, -1, -1, 18.666666666666664, 8.0, 0.0]\n",
      "[-1, -1, 18.666666666666664, 2.0, 0.0, -1]\n",
      "[-1, 18.666666666666664, 2.0, 0.0, -1, -1]\n",
      "[4.0, 2.0, 0.0, -1, -1, -1]\n"
     ]
    }
   ],
   "source": [
    "## You can test your implementation using the following code...\n",
    "\n",
    "import submission as submission\n",
    "matrix, bins = submission.v_opt_dp(x, num_bins)\n",
    "print(\"Bins = {}\".format(bins))\n",
    "print(\"Matrix =\")\n",
    "for row in matrix:\n",
    "    print(row)"
   ]
  },
  {
   "cell_type": "code",
   "execution_count": 5,
   "metadata": {},
   "outputs": [
    {
     "name": "stdout",
     "output_type": "stream",
     "text": [
      "Bins = [[7, 9, 13, 5], [35], [42], [6], [12], [4, 5, 7]]\n",
      "Matrix =\n",
      "[-1, -1, -1, -1, -1, 1071.3333333333335, 38.800000000000004, 38.0, 4.666666666666666, 2.0, 0.0]\n",
      "[-1, -1, -1, -1, 63.300000000000004, 38.800000000000004, 22.666666666666664, 4.666666666666666, 0.5, 0.0, -1]\n",
      "[-1, -1, -1, 63.300000000000004, 38.800000000000004, 22.666666666666664, 4.666666666666666, 0.5, -0.5, -1, -1]\n",
      "[-1, -1, 63.300000000000004, 38.800000000000004, 22.666666666666664, 4.666666666666666, 0.5, -0.5, -1, -1, -1]\n",
      "[-1, 46.800000000000004, 38.800000000000004, 22.666666666666664, 4.666666666666666, 0.5, -0.5, -1, -1, -1, -1]\n",
      "[39.666666666666664, 30.666666666666664, 22.666666666666664, 4.666666666666666, 0.5, -0.5, -1, -1, -1, -1, -1]\n"
     ]
    }
   ],
   "source": [
    "import submission as submission\n",
    "\n",
    "matrix, bins = submission.v_opt_dp([7,9,13,5,35,42,6,12,4,5,7], 6)\n",
    "print(\"Bins = {}\".format(bins))\n",
    "print(\"Matrix =\")\n",
    "for row in matrix:\n",
    "    print(row)"
   ]
  },
  {
   "cell_type": "code",
   "execution_count": null,
   "metadata": {},
   "outputs": [],
   "source": []
  }
 ],
 "metadata": {
  "kernelspec": {
   "display_name": "Python 3",
   "language": "python",
   "name": "python3"
  },
  "language_info": {
   "codemirror_mode": {
    "name": "ipython",
    "version": 3
   },
   "file_extension": ".py",
   "mimetype": "text/x-python",
   "name": "python",
   "nbconvert_exporter": "python",
   "pygments_lexer": "ipython3",
   "version": "3.6.5"
  }
 },
 "nbformat": 4,
 "nbformat_minor": 1
}
